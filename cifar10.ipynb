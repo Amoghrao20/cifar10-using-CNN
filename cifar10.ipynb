{
  "nbformat": 4,
  "nbformat_minor": 0,
  "metadata": {
    "colab": {
      "name": "cifar10.ipynb",
      "provenance": [],
      "collapsed_sections": [],
      "authorship_tag": "ABX9TyPdvDuPvbSrSOF9JsRpoWin"
    },
    "kernelspec": {
      "name": "python3",
      "display_name": "Python 3"
    },
    "language_info": {
      "name": "python"
    },
    "accelerator": "GPU"
  },
  "cells": [
    {
      "cell_type": "code",
      "metadata": {
        "id": "qQWL5GE1b7NU"
      },
      "source": [
        "import numpy as np\n",
        "import matplotlib.pyplot as plt"
      ],
      "execution_count": null,
      "outputs": []
    },
    {
      "cell_type": "code",
      "metadata": {
        "id": "AxodTv6Ub9Nv"
      },
      "source": [
        "import pandas as pd\n",
        "from tensorflow.keras import models,datasets,layers"
      ],
      "execution_count": null,
      "outputs": []
    },
    {
      "cell_type": "code",
      "metadata": {
        "colab": {
          "base_uri": "https://localhost:8080/"
        },
        "id": "GI08iUkWcG_F",
        "outputId": "a831f59f-ef61-4456-e3de-a924eff2e1ac"
      },
      "source": [
        "(X_train,y_train),(X_test,y_test)=datasets.cifar10.load_data()"
      ],
      "execution_count": null,
      "outputs": [
        {
          "output_type": "stream",
          "text": [
            "Downloading data from https://www.cs.toronto.edu/~kriz/cifar-10-python.tar.gz\n",
            "170500096/170498071 [==============================] - 12s 0us/step\n"
          ],
          "name": "stdout"
        }
      ]
    },
    {
      "cell_type": "code",
      "metadata": {
        "colab": {
          "base_uri": "https://localhost:8080/"
        },
        "id": "I7zMdBtpcga7",
        "outputId": "3b54ecf5-745c-4df8-cb8f-d2425d31ba93"
      },
      "source": [
        "X_train.shape"
      ],
      "execution_count": null,
      "outputs": [
        {
          "output_type": "execute_result",
          "data": {
            "text/plain": [
              "(50000, 32, 32, 3)"
            ]
          },
          "metadata": {
            "tags": []
          },
          "execution_count": 10
        }
      ]
    },
    {
      "cell_type": "code",
      "metadata": {
        "colab": {
          "base_uri": "https://localhost:8080/"
        },
        "id": "abItv-bEcjkD",
        "outputId": "700d3384-9a01-4125-d052-a5c6ebad5f04"
      },
      "source": [
        "X_test.shape"
      ],
      "execution_count": null,
      "outputs": [
        {
          "output_type": "execute_result",
          "data": {
            "text/plain": [
              "(10000, 32, 32, 3)"
            ]
          },
          "metadata": {
            "tags": []
          },
          "execution_count": 11
        }
      ]
    },
    {
      "cell_type": "code",
      "metadata": {
        "colab": {
          "base_uri": "https://localhost:8080/"
        },
        "id": "ds5GwAJIcyOB",
        "outputId": "275401cf-4ec2-465d-d320-a7bfd11cf143"
      },
      "source": [
        "y_train[:5]"
      ],
      "execution_count": null,
      "outputs": [
        {
          "output_type": "execute_result",
          "data": {
            "text/plain": [
              "array([[6],\n",
              "       [9],\n",
              "       [9],\n",
              "       [4],\n",
              "       [1]], dtype=uint8)"
            ]
          },
          "metadata": {
            "tags": []
          },
          "execution_count": 12
        }
      ]
    },
    {
      "cell_type": "code",
      "metadata": {
        "colab": {
          "base_uri": "https://localhost:8080/"
        },
        "id": "Y0CCTjLTzPvK",
        "outputId": "158ee75e-1d53-4eba-93d5-c883f4def1dd"
      },
      "source": [
        "\n",
        "y_train = y_train.reshape(-1,)\n",
        "y_train[:5] # here we reshape our test dataset to one dimensional "
      ],
      "execution_count": null,
      "outputs": [
        {
          "output_type": "execute_result",
          "data": {
            "text/plain": [
              "array([6, 9, 9, 4, 1], dtype=uint8)"
            ]
          },
          "metadata": {
            "tags": []
          },
          "execution_count": 13
        }
      ]
    },
    {
      "cell_type": "code",
      "metadata": {
        "id": "zyMlMdpPzrFY"
      },
      "source": [
        "\n",
        "y_test = y_test.reshape(-1,)"
      ],
      "execution_count": null,
      "outputs": []
    },
    {
      "cell_type": "code",
      "metadata": {
        "id": "dsBb_w-yzx6s"
      },
      "source": [
        "classes = [\"airplane\",\"automobile\",\"bird\",\"cat\",\"deer\",\"dog\",\"frog\",\"horse\",\"ship\",\"truck\"]#these are the given classes "
      ],
      "execution_count": null,
      "outputs": []
    },
    {
      "cell_type": "code",
      "metadata": {
        "id": "IDoV7MS4z3sO"
      },
      "source": [
        "def plot_sample(X,y,index):\n",
        "  plt.figure(figsize=(15,2))\n",
        "  plt.imshow(X[index])\n",
        "  plt.xlabel(classes[y[index]])\n"
      ],
      "execution_count": null,
      "outputs": []
    },
    {
      "cell_type": "code",
      "metadata": {
        "colab": {
          "base_uri": "https://localhost:8080/",
          "height": 173
        },
        "id": "E8Pe2AKd0dkQ",
        "outputId": "f46a1d0d-6dbd-40fb-db77-5097cb39d4b6"
      },
      "source": [
        "\n",
        "plot_sample(X_train, y_train, 0)"
      ],
      "execution_count": null,
      "outputs": [
        {
          "output_type": "display_data",
          "data": {
            "image/png": "[encoded data removed]",
            "text/plain": [
              "<Figure size 1080x144 with 1 Axes>"
            ]
          },
          "metadata": {
            "tags": [],
            "needs_background": "light"
          }
        }
      ]
    },
    {
      "cell_type": "code",
      "metadata": {
        "colab": {
          "base_uri": "https://localhost:8080/",
          "height": 173
        },
        "id": "NtGrP2Gk0g-e",
        "outputId": "a12c53e8-e446-44e4-80ae-723e09f39cc4"
      },
      "source": [
        "\n",
        "plot_sample(X_train, y_train, 1)"
      ],
      "execution_count": null,
      "outputs": [
        {
          "output_type": "display_data",
          "data": {
            "image/png": "[encoded data removed]",
            "text/plain": [
              "<Figure size 1080x144 with 1 Axes>"
            ]
          },
          "metadata": {
            "tags": [],
            "needs_background": "light"
          }
        }
      ]
    },
    {
      "cell_type": "code",
      "metadata": {
        "id": "Nqzz25f3015S"
      },
      "source": [
        "\n",
        "X_train = X_train / 255.0\n",
        "X_test = X_test / 255.0 #normallzing training data"
      ],
      "execution_count": null,
      "outputs": []
    },
    {
      "cell_type": "code",
      "metadata": {
        "colab": {
          "base_uri": "https://localhost:8080/"
        },
        "id": "wScT9A6_1M5P",
        "outputId": "e7bb3641-7bab-462e-db87-60ab94d2cb22"
      },
      "source": [
        "ann=models.Sequential([\n",
        "      layers.Flatten(input_shape=(32,32,3)),\n",
        "      layers.Dense(3000, activation='relu'),\n",
        "      layers.Dense(1000, activation='relu'),\n",
        "      layers.Dense(10, activation='softmax')\n",
        "])\n",
        "\n",
        "ann.compile(optimizer='SGD',\n",
        "              loss='sparse_categorical_crossentropy',\n",
        "              metrics=['accuracy'])\n",
        "\n",
        "ann.fit(X_train, y_train, epochs=5)"
      ],
      "execution_count": null,
      "outputs": [
        {
          "output_type": "stream",
          "text": [
            "Epoch 1/5\n",
            "1563/1563 [==============================] - 11s 6ms/step - loss: 1.8151 - accuracy: 0.3576\n",
            "Epoch 2/5\n",
            "1563/1563 [==============================] - 9s 6ms/step - loss: 1.6262 - accuracy: 0.4256\n",
            "Epoch 3/5\n",
            "1563/1563 [==============================] - 9s 6ms/step - loss: 1.5442 - accuracy: 0.4551\n",
            "Epoch 4/5\n",
            "1563/1563 [==============================] - 9s 6ms/step - loss: 1.4853 - accuracy: 0.4758\n",
            "Epoch 5/5\n",
            "1563/1563 [==============================] - 9s 6ms/step - loss: 1.4330 - accuracy: 0.4948\n"
          ],
          "name": "stdout"
        },
        {
          "output_type": "execute_result",
          "data": {
            "text/plain": [
              "<tensorflow.python.keras.callbacks.History at 0x7f810ebeca10>"
            ]
          },
          "metadata": {
            "tags": []
          },
          "execution_count": 36
        }
      ]
    },
    {
      "cell_type": "code",
      "metadata": {
        "colab": {
          "base_uri": "https://localhost:8080/"
        },
        "id": "DCWiwvCU1fL4",
        "outputId": "ec4baa35-c9e8-40ea-9b30-1b248897ff5d"
      },
      "source": [
        "from sklearn.metrics import confusion_matrix , classification_report\n",
        "import numpy as np\n",
        "y_pred = ann.predict(X_test)\n",
        "y_pred_classes = [np.argmax(element) for element in y_pred]\n",
        "\n",
        "print(\"Classification Report: \\n\", classification_report(y_test, y_pred_classes))"
      ],
      "execution_count": null,
      "outputs": [
        {
          "output_type": "stream",
          "text": [
            "Classification Report: \n",
            "               precision    recall  f1-score   support\n",
            "\n",
            "           0       0.35      0.71      0.47      1000\n",
            "           1       0.65      0.48      0.55      1000\n",
            "           2       0.40      0.28      0.33      1000\n",
            "           3       0.38      0.22      0.28      1000\n",
            "           4       0.44      0.37      0.40      1000\n",
            "           5       0.42      0.33      0.37      1000\n",
            "           6       0.53      0.55      0.54      1000\n",
            "           7       0.55      0.52      0.54      1000\n",
            "           8       0.48      0.68      0.56      1000\n",
            "           9       0.53      0.53      0.53      1000\n",
            "\n",
            "    accuracy                           0.47     10000\n",
            "   macro avg       0.47      0.47      0.46     10000\n",
            "weighted avg       0.47      0.47      0.46     10000\n",
            "\n"
          ],
          "name": "stdout"
        }
      ]
    },
    {
      "cell_type": "code",
      "metadata": {
        "id": "ckkyjmPQ2_zo"
      },
      "source": [
        "cnn = models.Sequential([\n",
        "    layers.Conv2D(filters=32, kernel_size=(3, 3), activation='relu', input_shape=(32, 32, 3)),\n",
        "    layers.MaxPool2D((2,2)),\n",
        "    \n",
        "    layers.Conv2D(filters=64, kernel_size=(3, 3), activation='relu'),\n",
        "    layers.MaxPooling2D((2, 2)),\n",
        "    \n",
        "    \n",
        "    \n",
        "    layers.Flatten(),\n",
        "    layers.Dense(64, activation='relu'),\n",
        "    layers.Dense(10, activation='softmax')\n",
        "])"
      ],
      "execution_count": null,
      "outputs": []
    },
    {
      "cell_type": "code",
      "metadata": {
        "id": "Mo20Dz1v34Jc"
      },
      "source": [
        "cnn.compile(optimizer='adam',\n",
        "            loss='sparse_categorical_crossentropy',\n",
        "            metrics=['accuracy'])"
      ],
      "execution_count": null,
      "outputs": []
    },
    {
      "cell_type": "code",
      "metadata": {
        "colab": {
          "base_uri": "https://localhost:8080/"
        },
        "id": "4s1DqA2V4shd",
        "outputId": "f0dc7fd3-e46e-4731-b9bd-dd385648d56a"
      },
      "source": [
        "cnn.fit(X_train,y_train,epochs=22)"
      ],
      "execution_count": null,
      "outputs": [
        {
          "output_type": "stream",
          "text": [
            "Epoch 1/22\n",
            "1563/1563 [==============================] - 9s 6ms/step - loss: 1.4768 - accuracy: 0.4691\n",
            "Epoch 2/22\n",
            "1563/1563 [==============================] - 9s 6ms/step - loss: 1.1381 - accuracy: 0.5992\n",
            "Epoch 3/22\n",
            "1563/1563 [==============================] - 9s 6ms/step - loss: 0.9975 - accuracy: 0.6524\n",
            "Epoch 4/22\n",
            "1563/1563 [==============================] - 9s 6ms/step - loss: 0.9093 - accuracy: 0.6850\n",
            "Epoch 5/22\n",
            "1563/1563 [==============================] - 9s 6ms/step - loss: 0.8451 - accuracy: 0.7080\n",
            "Epoch 6/22\n",
            "1563/1563 [==============================] - 9s 6ms/step - loss: 0.7880 - accuracy: 0.7271\n",
            "Epoch 7/22\n",
            "1563/1563 [==============================] - 9s 6ms/step - loss: 0.7406 - accuracy: 0.7416\n",
            "Epoch 8/22\n",
            "1563/1563 [==============================] - 9s 6ms/step - loss: 0.6930 - accuracy: 0.7570\n",
            "Epoch 9/22\n",
            "1563/1563 [==============================] - 9s 6ms/step - loss: 0.6545 - accuracy: 0.7723\n",
            "Epoch 10/22\n",
            "1563/1563 [==============================] - 9s 6ms/step - loss: 0.6237 - accuracy: 0.7812\n",
            "Epoch 11/22\n",
            "1563/1563 [==============================] - 9s 6ms/step - loss: 0.5832 - accuracy: 0.7958\n",
            "Epoch 12/22\n",
            "1563/1563 [==============================] - 9s 6ms/step - loss: 0.5527 - accuracy: 0.8047\n",
            "Epoch 13/22\n",
            "1563/1563 [==============================] - 9s 6ms/step - loss: 0.5226 - accuracy: 0.8137\n",
            "Epoch 14/22\n",
            "1563/1563 [==============================] - 9s 6ms/step - loss: 0.4984 - accuracy: 0.8242\n",
            "Epoch 15/22\n",
            "1563/1563 [==============================] - 9s 6ms/step - loss: 0.4707 - accuracy: 0.8327\n",
            "Epoch 16/22\n",
            "1563/1563 [==============================] - 9s 6ms/step - loss: 0.4451 - accuracy: 0.8405\n",
            "Epoch 17/22\n",
            "1563/1563 [==============================] - 9s 6ms/step - loss: 0.4268 - accuracy: 0.8491\n",
            "Epoch 18/22\n",
            "1563/1563 [==============================] - 9s 6ms/step - loss: 0.4014 - accuracy: 0.8571\n",
            "Epoch 19/22\n",
            "1563/1563 [==============================] - 9s 6ms/step - loss: 0.3809 - accuracy: 0.8641\n",
            "Epoch 20/22\n",
            "1563/1563 [==============================] - 9s 6ms/step - loss: 0.3635 - accuracy: 0.8699\n",
            "Epoch 21/22\n",
            "1563/1563 [==============================] - 9s 6ms/step - loss: 0.3447 - accuracy: 0.8779\n",
            "Epoch 22/22\n",
            "1563/1563 [==============================] - 9s 6ms/step - loss: 0.3289 - accuracy: 0.8823\n"
          ],
          "name": "stdout"
        },
        {
          "output_type": "execute_result",
          "data": {
            "text/plain": [
              "<tensorflow.python.keras.callbacks.History at 0x7f805db64d50>"
            ]
          },
          "metadata": {
            "tags": []
          },
          "execution_count": 69
        }
      ]
    },
    {
      "cell_type": "code",
      "metadata": {
        "colab": {
          "base_uri": "https://localhost:8080/"
        },
        "id": "Sy6JHNcq4644",
        "outputId": "264370a8-344b-4f94-b8ee-4648f64874d2"
      },
      "source": [
        "cnn.evaluate(X_test,y_test)"
      ],
      "execution_count": null,
      "outputs": [
        {
          "output_type": "stream",
          "text": [
            "313/313 [==============================] - 1s 4ms/step - loss: 1.2451 - accuracy: 0.6846\n"
          ],
          "name": "stdout"
        },
        {
          "output_type": "execute_result",
          "data": {
            "text/plain": [
              "[1.245131254196167, 0.6845999956130981]"
            ]
          },
          "metadata": {
            "tags": []
          },
          "execution_count": 70
        }
      ]
    },
    {
      "cell_type": "code",
      "metadata": {
        "colab": {
          "base_uri": "https://localhost:8080/"
        },
        "id": "I6M4KUFA5dDM",
        "outputId": "b500df93-9360-4cde-abc1-5dcdd84c7edc"
      },
      "source": [
        "\n",
        "y_test[:5]"
      ],
      "execution_count": null,
      "outputs": [
        {
          "output_type": "execute_result",
          "data": {
            "text/plain": [
              "array([3, 8, 8, 0, 6], dtype=uint8)"
            ]
          },
          "metadata": {
            "tags": []
          },
          "execution_count": 46
        }
      ]
    },
    {
      "cell_type": "code",
      "metadata": {
        "colab": {
          "base_uri": "https://localhost:8080/",
          "height": 173
        },
        "id": "EJwiaKGj5jge",
        "outputId": "25081c6b-0feb-4a8f-f90e-c1f5274dd182"
      },
      "source": [
        "plot_sample(X_test,y_test,3)\n"
      ],
      "execution_count": null,
      "outputs": [
        {
          "output_type": "display_data",
          "data": {
            "image/png": "[encoded data removed]",
            "text/plain": [
              "<Figure size 1080x144 with 1 Axes>"
            ]
          },
          "metadata": {
            "tags": [],
            "needs_background": "light"
          }
        }
      ]
    },
    {
      "cell_type": "code",
      "metadata": {
        "colab": {
          "base_uri": "https://localhost:8080/"
        },
        "id": "2sGvbBCA5vwQ",
        "outputId": "c02ab9a1-e25b-4453-e4f2-cddb81fecba6"
      },
      "source": [
        "y_pred = cnn.predict(X_test)\n",
        "y_pred[:5]"
      ],
      "execution_count": null,
      "outputs": [
        {
          "output_type": "execute_result",
          "data": {
            "text/plain": [
              "array([[1.58397415e-05, 9.14483167e-07, 1.24865642e-03, 9.59937215e-01,\n",
              "        3.48735412e-05, 3.02780233e-03, 3.54316980e-02, 2.65927083e-05,\n",
              "        2.45257601e-04, 3.12123339e-05],\n",
              "       [5.86100342e-03, 1.97674590e-03, 1.27699513e-08, 5.19929921e-09,\n",
              "        7.63029462e-08, 2.55739252e-09, 3.49443807e-11, 5.56227508e-10,\n",
              "        9.91636455e-01, 5.25690441e-04],\n",
              "       [1.42402221e-02, 3.48120958e-01, 3.34714394e-04, 6.13222714e-04,\n",
              "        9.68384556e-04, 7.61413394e-05, 6.26124849e-04, 8.23512019e-05,\n",
              "        6.33898020e-01, 1.03996682e-03],\n",
              "       [9.54630256e-01, 5.90849260e-04, 5.37396781e-03, 3.24327324e-04,\n",
              "        3.50066948e-05, 2.01266198e-06, 2.52132249e-05, 4.49745448e-06,\n",
              "        3.89795862e-02, 3.43361171e-05],\n",
              "       [5.52712116e-08, 5.45654586e-07, 5.13098855e-03, 1.04155764e-01,\n",
              "        1.48305714e-01, 2.60925561e-04, 7.42145538e-01, 7.48311777e-08,\n",
              "        3.92477887e-07, 2.31297648e-08]], dtype=float32)"
            ]
          },
          "metadata": {
            "tags": []
          },
          "execution_count": 52
        }
      ]
    },
    {
      "cell_type": "code",
      "metadata": {
        "colab": {
          "base_uri": "https://localhost:8080/"
        },
        "id": "3F1rgagA56Nx",
        "outputId": "5c0d5908-b4a4-4a74-b74f-6ed059fa6539"
      },
      "source": [
        "y_classes = [np.argmax(element) for element in y_pred]\n",
        "y_classes[:5]"
      ],
      "execution_count": null,
      "outputs": [
        {
          "output_type": "execute_result",
          "data": {
            "text/plain": [
              "[3, 8, 8, 0, 6]"
            ]
          },
          "metadata": {
            "tags": []
          },
          "execution_count": 53
        }
      ]
    },
    {
      "cell_type": "code",
      "metadata": {
        "colab": {
          "base_uri": "https://localhost:8080/",
          "height": 173
        },
        "id": "KV03mDjN6V5Y",
        "outputId": "feaef344-d65f-4856-9d4d-b9a9cf3aae1b"
      },
      "source": [
        "\n",
        "plot_sample(X_test, y_test,3)"
      ],
      "execution_count": null,
      "outputs": [
        {
          "output_type": "display_data",
          "data": {
            "image/png": "[encoded data removed]",
            "text/plain": [
              "<Figure size 1080x144 with 1 Axes>"
            ]
          },
          "metadata": {
            "tags": [],
            "needs_background": "light"
          }
        }
      ]
    },
    {
      "cell_type": "code",
      "metadata": {
        "colab": {
          "base_uri": "https://localhost:8080/",
          "height": 35
        },
        "id": "szO3oL247svU",
        "outputId": "0e6cf880-796e-404c-d415-7c6a81b4e73a"
      },
      "source": [
        "classes[y_classes[3]]"
      ],
      "execution_count": null,
      "outputs": [
        {
          "output_type": "execute_result",
          "data": {
            "application/vnd.google.colaboratory.intrinsic+json": {
              "type": "string"
            },
            "text/plain": [
              "'airplane'"
            ]
          },
          "metadata": {
            "tags": []
          },
          "execution_count": 55
        }
      ]
    },
    {
      "cell_type": "code",
      "metadata": {
        "colab": {
          "base_uri": "https://localhost:8080/"
        },
        "id": "LBvu7sXH7vsO",
        "outputId": "05a7aab1-4b3f-4973-f5f0-71eed522ac8d"
      },
      "source": [
        "cnn.summary()"
      ],
      "execution_count": null,
      "outputs": [
        {
          "output_type": "stream",
          "text": [
            "Model: \"sequential_5\"\n",
            "_________________________________________________________________\n",
            "Layer (type)                 Output Shape              Param #   \n",
            "=================================================================\n",
            "conv2d_12 (Conv2D)           (None, 30, 30, 32)        896       \n",
            "_________________________________________________________________\n",
            "max_pooling2d_12 (MaxPooling (None, 15, 15, 32)        0         \n",
            "_________________________________________________________________\n",
            "conv2d_13 (Conv2D)           (None, 13, 13, 64)        18496     \n",
            "_________________________________________________________________\n",
            "max_pooling2d_13 (MaxPooling (None, 6, 6, 64)          0         \n",
            "_________________________________________________________________\n",
            "flatten_5 (Flatten)          (None, 2304)              0         \n",
            "_________________________________________________________________\n",
            "dense_11 (Dense)             (None, 64)                147520    \n",
            "_________________________________________________________________\n",
            "dense_12 (Dense)             (None, 10)                650       \n",
            "=================================================================\n",
            "Total params: 167,562\n",
            "Trainable params: 167,562\n",
            "Non-trainable params: 0\n",
            "_________________________________________________________________\n"
          ],
          "name": "stdout"
        }
      ]
    },
    {
      "cell_type": "code",
      "metadata": {
        "colab": {
          "base_uri": "https://localhost:8080/"
        },
        "id": "p08M7G7x_6dO",
        "outputId": "c8b74e79-2fe2-4863-cc9c-487342bc8000"
      },
      "source": [
        "from sklearn.metrics import confusion_matrix , classification_report\n",
        "import numpy as np\n",
        "y_pred = ann.predict(X_test)\n",
        "y_pred_classes = [np.argmax(element) for element in y_pred]\n",
        "\n",
        "print(\"Classification Report: \\n\", classification_report(y_test, y_pred_classes))"
      ],
      "execution_count": null,
      "outputs": [
        {
          "output_type": "stream",
          "text": [
            "Classification Report: \n",
            "               precision    recall  f1-score   support\n",
            "\n",
            "           0       0.35      0.71      0.47      1000\n",
            "           1       0.65      0.48      0.55      1000\n",
            "           2       0.40      0.28      0.33      1000\n",
            "           3       0.38      0.22      0.28      1000\n",
            "           4       0.44      0.37      0.40      1000\n",
            "           5       0.42      0.33      0.37      1000\n",
            "           6       0.53      0.55      0.54      1000\n",
            "           7       0.55      0.52      0.54      1000\n",
            "           8       0.48      0.68      0.56      1000\n",
            "           9       0.53      0.53      0.53      1000\n",
            "\n",
            "    accuracy                           0.47     10000\n",
            "   macro avg       0.47      0.47      0.46     10000\n",
            "weighted avg       0.47      0.47      0.46     10000\n",
            "\n"
          ],
          "name": "stdout"
        }
      ]
    },
    {
      "cell_type": "code",
      "metadata": {
        "id": "RS861Fv5Bicl"
      },
      "source": [
        "mat=confusion_matrix(y_test,y_classes)"
      ],
      "execution_count": null,
      "outputs": []
    },
    {
      "cell_type": "code",
      "metadata": {
        "colab": {
          "base_uri": "https://localhost:8080/"
        },
        "id": "-HqleNxiB60z",
        "outputId": "94fc7ce1-bcc3-4a23-93cf-f601d9f0c2f2"
      },
      "source": [
        "mat"
      ],
      "execution_count": null,
      "outputs": [
        {
          "output_type": "execute_result",
          "data": {
            "text/plain": [
              "array([[769,   5,  50,  26,  16,   9,   8,  23,  66,  28],\n",
              "       [ 29, 746,   8,  20,  10,  13,  11,  12,  43, 108],\n",
              "       [ 68,   4, 565,  73, 104,  55,  62,  54,   9,   6],\n",
              "       [ 27,   3,  55, 536,  80, 162,  64,  55,  10,   8],\n",
              "       [ 24,   1,  53,  76, 664,  38,  31, 105,   7,   1],\n",
              "       [ 10,   1,  36, 188,  58, 617,  19,  60,   6,   5],\n",
              "       [  9,   1,  41,  92,  42,  30, 765,  14,   5,   1],\n",
              "       [  9,   2,  24,  41,  47,  51,   6, 807,   4,   9],\n",
              "       [ 60,  20,  26,  18,  12,   9,   8,  10, 817,  20],\n",
              "       [ 34,  61,  10,  28,  10,  10,   9,  29,  33, 776]])"
            ]
          },
          "metadata": {
            "tags": []
          },
          "execution_count": 78
        }
      ]
    },
    {
      "cell_type": "code",
      "metadata": {
        "id": "NLGG0VTkDGAb"
      },
      "source": [
        "import seaborn as sns"
      ],
      "execution_count": null,
      "outputs": []
    },
    {
      "cell_type": "code",
      "metadata": {
        "colab": {
          "base_uri": "https://localhost:8080/",
          "height": 717
        },
        "id": "K4DjTFzXDlwx",
        "outputId": "686a160b-3703-4c29-d0a4-bf50a858ef5b"
      },
      "source": [
        "plt.figure(figsize=(12,12))\n",
        "sns.heatmap(mat,annot=True)\n",
        "            "
      ],
      "execution_count": null,
      "outputs": [
        {
          "output_type": "execute_result",
          "data": {
            "text/plain": [
              "<matplotlib.axes._subplots.AxesSubplot at 0x7f8053b8e950>"
            ]
          },
          "metadata": {
            "tags": []
          },
          "execution_count": 100
        },
        {
          "output_type": "display_data",
          "data": {
            "image/png": "[encoded data removed]",
            "text/plain": [
              "<Figure size 864x864 with 2 Axes>"
            ]
          },
          "metadata": {
            "tags": [],
            "needs_background": "light"
          }
        }
      ]
    },
    {
      "cell_type": "code",
      "metadata": {
        "colab": {
          "base_uri": "https://localhost:8080/",
          "height": 173
        },
        "id": "zpaGNYyXHdWK",
        "outputId": "614d2bf2-1c65-4c8c-ea35-1682eb4dda0b"
      },
      "source": [
        "plot_sample(X_test, y_test,7)"
      ],
      "execution_count": null,
      "outputs": [
        {
          "output_type": "display_data",
          "data": {
            "image/png": "[encoded data removed]",
            "text/plain": [
              "<Figure size 1080x144 with 1 Axes>"
            ]
          },
          "metadata": {
            "tags": [],
            "needs_background": "light"
          }
        }
      ]
    },
    {
      "cell_type": "code",
      "metadata": {
        "colab": {
          "base_uri": "https://localhost:8080/",
          "height": 35
        },
        "id": "9L7X8WtUIn78",
        "outputId": "6eac9610-f215-4196-cb06-be0a2ad7f0cb"
      },
      "source": [
        "classes[y_classes[7]]"
      ],
      "execution_count": null,
      "outputs": [
        {
          "output_type": "execute_result",
          "data": {
            "application/vnd.google.colaboratory.intrinsic+json": {
              "type": "string"
            },
            "text/plain": [
              "'frog'"
            ]
          },
          "metadata": {
            "tags": []
          },
          "execution_count": 102
        }
      ]
    },
    {
      "cell_type": "code",
      "metadata": {
        "id": "vnN3MQHSI3E0"
      },
      "source": [
        ""
      ],
      "execution_count": null,
      "outputs": []
    }
  ]
}